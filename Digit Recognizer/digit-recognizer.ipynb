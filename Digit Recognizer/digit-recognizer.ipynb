{
 "cells": [
  {
   "cell_type": "code",
   "execution_count": 1,
   "metadata": {},
   "outputs": [],
   "source": [
    "import numpy as np\n",
    "import torch\n",
    "from torch.utils.data import DataLoader\n",
    "from torch import nn\n",
    "from torch.autograd import Variable\n",
    "import csv\n",
    "import matplotlib.pyplot as plt"
   ]
  },
  {
   "cell_type": "code",
   "execution_count": 2,
   "metadata": {},
   "outputs": [],
   "source": [
    "trainfile_path =  'G:/kaggle/digit-recognizer/train.csv'\n",
    "testfile_path =  'G:/kaggle/digit-recognizer/test.csv'"
   ]
  },
  {
   "cell_type": "code",
   "execution_count": 46,
   "metadata": {},
   "outputs": [],
   "source": [
    "#读入训练集数据\n",
    "train_file = []\n",
    "with open(trainfile_path) as f:\n",
    "    lines = csv.reader(f)\n",
    "    for line in lines:\n",
    "        train_file.append(line)\n",
    "\n",
    "train_file = np.array(train_file)\n",
    "train_file = np.delete(train_file,0,axis = 0)\n",
    "train_data = train_file[:29400,1:].astype(float)\n",
    "valid_data = train_file[29400:,1:].astype(float)\n"
   ]
  },
  {
   "cell_type": "code",
   "execution_count": 47,
   "metadata": {},
   "outputs": [],
   "source": [
    "train_label = torch.LongTensor(train_file[:29400,0].astype(float))\n",
    "valid_label = torch.LongTensor(train_file[29400:,0].astype(float))"
   ]
  },
  {
   "cell_type": "code",
   "execution_count": 48,
   "metadata": {},
   "outputs": [],
   "source": [
    "#读入测试集数据\n",
    "test_file = []\n",
    "with open(testfile_path) as f:\n",
    "    lines = csv.reader(f)\n",
    "    for line in lines:\n",
    "        test_file.append(line)\n",
    "\n",
    "test_file = np.array(test_file)\n",
    "test_data = test_file[1:,:].astype(float)\n"
   ]
  },
  {
   "cell_type": "code",
   "execution_count": 49,
   "metadata": {},
   "outputs": [],
   "source": [
    "train_data = np.multiply(train_data, 1.0/255.0)\n",
    "valid_data = np.multiply(valid_data, 1.0/255.0)\n",
    "test_data = np.multiply(test_data, 1.0/255.0)"
   ]
  },
  {
   "cell_type": "code",
   "execution_count": 50,
   "metadata": {},
   "outputs": [],
   "source": [
    "train_set_raw = torch.FloatTensor(train_data.reshape((train_data.shape[0], 1, 28,28)))\n",
    "valid_set_raw = torch.FloatTensor(valid_data.reshape((valid_data.shape[0], 1, 28,28)))\n",
    "test_set_raw = torch.FloatTensor(test_data.reshape((test_data.shape[0], 1, 28,28)))"
   ]
  },
  {
   "cell_type": "code",
   "execution_count": 2,
   "metadata": {},
   "outputs": [],
   "source": [
    "from torchvision import transforms as tfs\n",
    "def train_tf(x):\n",
    "    im_aug = tfs.Compose([\n",
    "        tfs.Resize(32),\n",
    "        tfs.RandomHorizontalFlip(),\n",
    "        tfs.RandomCrop(28),\n",
    "        tfs.ColorJitter(brightness=0.5, contrast=0.5, hue=0.5),\n",
    "        tfs.ToTensor(),\n",
    "    ])\n",
    "    x = im_aug(x)\n",
    "    return x"
   ]
  },
  {
   "cell_type": "code",
   "execution_count": 289,
   "metadata": {},
   "outputs": [],
   "source": [
    "train_set_raw2 = torch.zeros(train_set_raw.shape[0], 1, 28, 28)\n",
    "for i in range(0,train_set_raw.shape[0]):\n",
    "    train_set_raw2[i] = train_tf(tfs.ToPILImage()(train_set_raw[i]))"
   ]
  },
  {
   "cell_type": "code",
   "execution_count": 337,
   "metadata": {},
   "outputs": [],
   "source": [
    "train_set_raw3 = torch.cat([train_set_raw,train_set_raw2],dim = 0)\n",
    "train_label3 = torch.cat([train_label,train_label],dim = -1)"
   ]
  },
  {
   "cell_type": "code",
   "execution_count": 294,
   "metadata": {},
   "outputs": [
    {
     "data": {
      "text/plain": [
       "<matplotlib.image.AxesImage at 0x168caebbb00>"
      ]
     },
     "execution_count": 294,
     "metadata": {},
     "output_type": "execute_result"
    },
    {
     "data": {
      "image/png": "[encoded data removed]",
      "text/plain": [
       "<Figure size 432x288 with 1 Axes>"
      ]
     },
     "metadata": {
      "needs_background": "light"
     },
     "output_type": "display_data"
    }
   ],
   "source": [
    "plt.imshow(train_set_raw[0][0],cmap='gray')"
   ]
  },
  {
   "cell_type": "code",
   "execution_count": 339,
   "metadata": {},
   "outputs": [],
   "source": [
    "class CNN(nn.Module):\n",
    "    def __init__(self):\n",
    "        super(CNN,self).__init__()\n",
    "        self.conv1 = nn.Sequential(\n",
    "            nn.Conv2d(1,30,3,1,1,dilation = 1),\n",
    "            nn.ReLU(True),\n",
    "            nn.MaxPool2d(2, 2),\n",
    "            )\n",
    "        self.conv2 = nn.Sequential(\n",
    "            nn.Conv2d(30,60,3,1,1,dilation = 1),\n",
    "            nn.ReLU(True),\n",
    "            nn.MaxPool2d(2, 2),\n",
    "            )\n",
    "        self.conv3 = nn.Sequential(\n",
    "            nn.Conv2d(60,120,3,1,1,dilation = 1),\n",
    "            nn.ReLU(True),\n",
    "            nn.MaxPool2d(2, 2),\n",
    "            )\n",
    "        self.conv4 = nn.Sequential(\n",
    "            nn.Conv2d(120,200,3,1,1,dilation = 7),\n",
    "            nn.ReLU(True),\n",
    "            nn.MaxPool2d(2, 2),\n",
    "            )\n",
    "        self.fc = nn.Sequential(\n",
    "                nn.Linear(120 * 3 * 3, 500),\n",
    "                nn.Dropout(0.5),\n",
    "                nn.ReLU(True),\n",
    "                nn.Linear(500, 10),\n",
    "#                 nn.ReLU(True),\n",
    "#                 nn.Linear(100, 10),\n",
    "            \n",
    "        )\n",
    "    def forward(self,x):\n",
    "        x = self.conv1(x)\n",
    "        x = self.conv2(x)\n",
    "        x = self.conv3(x)\n",
    "      #  x = self.conv4(x)\n",
    "        x = x.view(x.size(0), -1)\n",
    "        output = self.fc(x)\n",
    "        \n",
    "        return output\n",
    "        "
   ]
  },
  {
   "cell_type": "code",
   "execution_count": 340,
   "metadata": {},
   "outputs": [],
   "source": [
    "cnn = CNN()"
   ]
  },
  {
   "cell_type": "code",
   "execution_count": 341,
   "metadata": {},
   "outputs": [],
   "source": [
    "epoch = 20\n",
    "batchsize = 128\n",
    "optimizer = torch.optim.Adam(cnn.parameters())\n",
    "criterion = nn.CrossEntropyLoss()"
   ]
  },
  {
   "cell_type": "code",
   "execution_count": 342,
   "metadata": {},
   "outputs": [],
   "source": [
    "import torch.utils.data as Data\n",
    "train_set = Data.TensorDataset(train_set_raw3,train_label3)\n",
    "train_set = Data.DataLoader(dataset = train_set,batch_size = batchsize,shuffle = True)\n",
    "valid_set = Data.TensorDataset(valid_set_raw,valid_label)\n",
    "valid_set = Data.DataLoader(dataset = valid_set,batch_size = batchsize,shuffle = True)"
   ]
  },
  {
   "cell_type": "code",
   "execution_count": 350,
   "metadata": {
    "scrolled": true
   },
   "outputs": [
    {
     "name": "stdout",
     "output_type": "stream",
     "text": [
      "epoch: 0, Train Loss: 0.013188, Train Acc: 0.995873, Eval Loss: 0.035725, Eval Acc: 0.992323\n",
      "epoch: 1, Train Loss: 0.014204, Train Acc: 0.995533, Eval Loss: 0.042792, Eval Acc: 0.991162\n",
      "epoch: 2, Train Loss: 0.014534, Train Acc: 0.995177, Eval Loss: 0.038036, Eval Acc: 0.991556\n",
      "epoch: 3, Train Loss: 0.011339, Train Acc: 0.996315, Eval Loss: 0.038266, Eval Acc: 0.992424\n",
      "epoch: 4, Train Loss: 0.011620, Train Acc: 0.996213, Eval Loss: 0.034542, Eval Acc: 0.993608\n",
      "epoch: 5, Train Loss: 0.014631, Train Acc: 0.995737, Eval Loss: 0.040865, Eval Acc: 0.991849\n",
      "epoch: 6, Train Loss: 0.014300, Train Acc: 0.995652, Eval Loss: 0.035823, Eval Acc: 0.992582\n",
      "epoch: 7, Train Loss: 0.009465, Train Acc: 0.996773, Eval Loss: 0.054408, Eval Acc: 0.990959\n",
      "epoch: 8, Train Loss: 0.007554, Train Acc: 0.997622, Eval Loss: 0.039522, Eval Acc: 0.992740\n",
      "epoch: 9, Train Loss: 0.011087, Train Acc: 0.996501, Eval Loss: 0.049290, Eval Acc: 0.992109\n",
      "epoch: 10, Train Loss: 0.013366, Train Acc: 0.995873, Eval Loss: 0.044319, Eval Acc: 0.992740\n",
      "epoch: 11, Train Loss: 0.013466, Train Acc: 0.995981, Eval Loss: 0.043573, Eval Acc: 0.991218\n",
      "epoch: 12, Train Loss: 0.009663, Train Acc: 0.997198, Eval Loss: 0.048621, Eval Acc: 0.992007\n",
      "epoch: 13, Train Loss: 0.009260, Train Acc: 0.997130, Eval Loss: 0.047410, Eval Acc: 0.991793\n",
      "epoch: 14, Train Loss: 0.009006, Train Acc: 0.997385, Eval Loss: 0.051928, Eval Acc: 0.992030\n",
      "epoch: 15, Train Loss: 0.009970, Train Acc: 0.997198, Eval Loss: 0.042619, Eval Acc: 0.992638\n",
      "epoch: 16, Train Loss: 0.011154, Train Acc: 0.996507, Eval Loss: 0.049920, Eval Acc: 0.992086\n",
      "epoch: 17, Train Loss: 0.009320, Train Acc: 0.997130, Eval Loss: 0.047112, Eval Acc: 0.992266\n",
      "epoch: 18, Train Loss: 0.009111, Train Acc: 0.997424, Eval Loss: 0.054485, Eval Acc: 0.989967\n",
      "epoch: 19, Train Loss: 0.008812, Train Acc: 0.997135, Eval Loss: 0.046679, Eval Acc: 0.992717\n"
     ]
    }
   ],
   "source": [
    "# 开始训练\n",
    "losses = []\n",
    "acces = []\n",
    "eval_losses = []\n",
    "eval_acces = []\n",
    "if torch.cuda.is_available():\n",
    "    cnn = cnn.cuda()\n",
    "\n",
    "for e in range(epoch):\n",
    "    train_loss = 0\n",
    "    train_acc = 0\n",
    "    cnn.train()\n",
    "    for im, label in train_set:\n",
    "        if torch.cuda.is_available():\n",
    "            im = Variable(im.cuda())  \n",
    "            label = Variable(label.cuda())  \n",
    "        else:\n",
    "            im = Variable(im)\n",
    "            label = Variable(label)\n",
    "        \n",
    "        # 前向传播\n",
    "        out = cnn(im)\n",
    "        loss = criterion(out, label)\n",
    "        # 反向传播\n",
    "        optimizer.zero_grad()\n",
    "        loss.backward()\n",
    "        optimizer.step()\n",
    "        # 记录误差\n",
    "        train_loss += loss.item()\n",
    "        # 计算分类的准确率\n",
    "        _, pred = out.max(1)\n",
    "        num_correct = (pred == label).sum().item()\n",
    "        acc = num_correct / im.shape[0]\n",
    "        train_acc += acc\n",
    "        \n",
    "    losses.append(train_loss / len(train_set))\n",
    "    acces.append(train_acc / len(train_set))\n",
    "    \n",
    "    #保存模型    \n",
    "    torch.save(cnn, 'cnn_'+ str(e)+ '.pth')\n",
    "    \n",
    "    # 在测试集上检验效果\n",
    "    eval_loss = 0\n",
    "    eval_acc = 0\n",
    "    cnn.eval() # 将模型改为预测模式\n",
    "    for im, label in valid_set:\n",
    "        if torch.cuda.is_available():\n",
    "            im = Variable(im.cuda())  \n",
    "            label = Variable(label.cuda())  \n",
    "        else:\n",
    "            im = Variable(im)\n",
    "            label = Variable(label)\n",
    "        out = cnn(im)\n",
    "        loss = criterion(out, label)\n",
    "        # 记录误差\n",
    "        eval_loss += loss.item()\n",
    "        # 记录准确率\n",
    "        _, pred = out.max(1)\n",
    "        num_correct = (pred == label).sum().item()\n",
    "        acc = num_correct / im.shape[0]\n",
    "        eval_acc += acc\n",
    "        \n",
    "    eval_losses.append(eval_loss / len(valid_set))\n",
    "    eval_acces.append(eval_acc / len(valid_set))\n",
    "    print('epoch: {}, Train Loss: {:.6f}, Train Acc: {:.6f}, Eval Loss: {:.6f}, Eval Acc: {:.6f}'\n",
    "          .format(e, train_loss / len(train_set), train_acc / len(train_set), \n",
    "                     eval_loss / len(valid_set), eval_acc / len(valid_set)))"
   ]
  },
  {
   "cell_type": "code",
   "execution_count": 351,
   "metadata": {},
   "outputs": [
    {
     "data": {
      "text/plain": [
       "<matplotlib.legend.Legend at 0x168cb156a90>"
      ]
     },
     "execution_count": 351,
     "metadata": {},
     "output_type": "execute_result"
    },
    {
     "data": {
      "image/png": "[encoded data removed]",
      "text/plain": [
       "<Figure size 432x288 with 1 Axes>"
      ]
     },
     "metadata": {
      "needs_background": "light"
     },
     "output_type": "display_data"
    }
   ],
   "source": [
    "from matplotlib.pyplot import MultipleLocator #导入此类，设置坐标轴间隔\n",
    "plt.title('train loss')\n",
    "\n",
    "#令x轴刻度间隔为1，当回合数很多时，可适当增大间隔或取消运行以下三行\n",
    "x_major_locator=MultipleLocator(1)\n",
    "ax=plt.gca()\n",
    "ax.xaxis.set_major_locator(x_major_locator)\n",
    "\n",
    "plt.plot(np.arange(1,len(losses)+1),losses, c = 'b',label = 'train')\n",
    "plt.plot(np.arange(1,len(eval_losses)+1), eval_losses,c = 'r',label = 'valid')\n",
    "plt.legend()"
   ]
  },
  {
   "cell_type": "code",
   "execution_count": 227,
   "metadata": {},
   "outputs": [],
   "source": [
    "test_set = Data.DataLoader(dataset = test_set_raw, batch_size = batchsize, shuffle = False)"
   ]
  },
  {
   "cell_type": "code",
   "execution_count": 352,
   "metadata": {},
   "outputs": [],
   "source": [
    "#加载相应的CNN模型\n",
    "cnn = torch.load('cnn_4.pth')"
   ]
  },
  {
   "cell_type": "code",
   "execution_count": 353,
   "metadata": {},
   "outputs": [],
   "source": [
    "predicted_labels = []\n",
    "for im in test_set:\n",
    "        if torch.cuda.is_available():\n",
    "            im = Variable(im.cuda())  \n",
    "        else:\n",
    "            im = Variable(im)\n",
    "        out = cnn(im)\n",
    "        _, pred = out.max(1)\n",
    "        predicted_labels = predicted_labels + pred.tolist()"
   ]
  },
  {
   "cell_type": "code",
   "execution_count": 354,
   "metadata": {},
   "outputs": [],
   "source": [
    "import pandas as pd\n",
    "dataframe = pd.DataFrame(np.c_[range(1,len(test_set_raw)+1),predicted_labels],columns = ['ImageId','Label'])\n",
    "dataframe.to_csv('predicted_csv.csv',index = 0)"
   ]
  },
  {
   "cell_type": "code",
   "execution_count": null,
   "metadata": {},
   "outputs": [],
   "source": []
  },
  {
   "cell_type": "code",
   "execution_count": null,
   "metadata": {},
   "outputs": [],
   "source": []
  }
 ],
 "metadata": {
  "kernelspec": {
   "display_name": "Python 3",
   "language": "python",
   "name": "python3"
  },
  "language_info": {
   "codemirror_mode": {
    "name": "ipython",
    "version": 3
   },
   "file_extension": ".py",
   "mimetype": "text/x-python",
   "name": "python",
   "nbconvert_exporter": "python",
   "pygments_lexer": "ipython3",
   "version": "3.6.8"
  }
 },
 "nbformat": 4,
 "nbformat_minor": 2
}
